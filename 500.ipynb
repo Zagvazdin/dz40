# Задача 40: Работать с файлом california_housing_train.csv, который 
#находится в папке sample_data. Определить среднюю стоимость дома, где 
#кол-во людей от 0 до 500 (population)

import pandas as pd

df = pd.read_csv("california.csv")
print("Средняя стоимость дома  : ", df[(df["population"] > 500)]["median_house_value"].mean())

#Задача 42: Узнать какая максимальная households в зоне минимального значения population

print("max households : ", df[(df["population"].min())]["households"].max())
